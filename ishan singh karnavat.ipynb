{
 "cells": [
  {
   "cell_type": "code",
   "execution_count": 24,
   "id": "dbf5fc41-0bab-4c7d-ab4b-8943ded55eb2",
   "metadata": {},
   "outputs": [],
   "source": [
    "def pyramid(n):\n",
    "    for i in range(n):\n",
    "        print(' '*(n-i-1) + '* '*(i+1))"
   ]
  },
  {
   "cell_type": "code",
   "execution_count": 25,
   "id": "c108b988-8f6c-473b-9ffe-179145f18d43",
   "metadata": {},
   "outputs": [],
   "source": [
    "def upper_triangular(n):\n",
    "    for i in range(n):\n",
    "        print('  '*i + '* '*(n-i))"
   ]
  },
  {
   "cell_type": "code",
   "execution_count": 26,
   "id": "d96b1940-0e81-4cc7-b19d-de26f67544b3",
   "metadata": {},
   "outputs": [],
   "source": [
    "def lower_triangular(n):\n",
    "    for i in range(n):\n",
    "        print('* '*(i+1))"
   ]
  },
  {
   "cell_type": "code",
   "execution_count": 30,
   "id": "e5f403b9-8c38-4740-aeed-e22868822d5f",
   "metadata": {},
   "outputs": [
    {
     "name": "stdout",
     "output_type": "stream",
     "text": [
      "         * \n",
      "        * * \n",
      "       * * * \n",
      "      * * * * \n",
      "     * * * * * \n",
      "    * * * * * * \n",
      "   * * * * * * * \n",
      "  * * * * * * * * \n",
      " * * * * * * * * * \n",
      "* * * * * * * * * * \n"
     ]
    }
   ],
   "source": [
    "pyramid(10)"
   ]
  },
  {
   "cell_type": "code",
   "execution_count": 31,
   "id": "f9e9d5ce-a803-4e16-a318-a5a001df9b44",
   "metadata": {},
   "outputs": [
    {
     "name": "stdout",
     "output_type": "stream",
     "text": [
      "* * * * * * * * * * \n",
      "  * * * * * * * * * \n",
      "    * * * * * * * * \n",
      "      * * * * * * * \n",
      "        * * * * * * \n",
      "          * * * * * \n",
      "            * * * * \n",
      "              * * * \n",
      "                * * \n",
      "                  * \n"
     ]
    }
   ],
   "source": [
    "upper_triangular(10)"
   ]
  },
  {
   "cell_type": "code",
   "execution_count": 32,
   "id": "8bec404d-7fdc-41b3-952b-0f4a68bc37fe",
   "metadata": {},
   "outputs": [
    {
     "name": "stdout",
     "output_type": "stream",
     "text": [
      "* \n",
      "* * \n",
      "* * * \n",
      "* * * * \n",
      "* * * * * \n",
      "* * * * * * \n",
      "* * * * * * * \n",
      "* * * * * * * * \n",
      "* * * * * * * * * \n",
      "* * * * * * * * * * \n"
     ]
    }
   ],
   "source": [
    "lower_triangular(10)"
   ]
  },
  {
   "cell_type": "code",
   "execution_count": null,
   "id": "1d6afca4-d78f-47fd-b578-4e404e6a67c5",
   "metadata": {},
   "outputs": [],
   "source": []
  },
  {
   "cell_type": "code",
   "execution_count": null,
   "id": "67543c45-0e80-4483-8427-826f940ea9e6",
   "metadata": {},
   "outputs": [],
   "source": []
  }
 ],
 "metadata": {
  "kernelspec": {
   "display_name": "Python 3 (ipykernel)",
   "language": "python",
   "name": "python3"
  },
  "language_info": {
   "codemirror_mode": {
    "name": "ipython",
    "version": 3
   },
   "file_extension": ".py",
   "mimetype": "text/x-python",
   "name": "python",
   "nbconvert_exporter": "python",
   "pygments_lexer": "ipython3",
   "version": "3.11.7"
  }
 },
 "nbformat": 4,
 "nbformat_minor": 5
}
